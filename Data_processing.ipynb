{
 "cells": [
  {
   "cell_type": "code",
   "execution_count": 24,
   "id": "ecological-persian",
   "metadata": {},
   "outputs": [],
   "source": [
    "import torch\n",
    "from transformers import LongformerTokenizerFast\n",
    "\n",
    "tokenizer = LongformerTokenizerFast.from_pretrained('allenai/longformer-base-4096')"
   ]
  },
  {
   "cell_type": "markdown",
   "id": "tender-seeker",
   "metadata": {},
   "source": [
    "# preprocessing data"
   ]
  },
  {
   "cell_type": "code",
   "execution_count": 25,
   "id": "behavioral-mattress",
   "metadata": {},
   "outputs": [
    {
     "name": "stderr",
     "output_type": "stream",
     "text": [
      "Using custom data configuration default\n",
      "Reusing dataset natural_questions (/home/sri/.cache/huggingface/datasets/natural_questions/default/0.0.2/867dbbaf9137c1b83ecb19f5eb80559e1002ea26e702c6b919cfa81a17a8c531)\n"
     ]
    }
   ],
   "source": [
    "from datasets import load_dataset\n",
    "\n",
    "\n",
    "dataset = load_dataset(\"natural_questions\")"
   ]
  },
  {
   "cell_type": "code",
   "execution_count": 26,
   "id": "amber-pierre",
   "metadata": {},
   "outputs": [],
   "source": [
    "def convert_to_features(example, max_length=4096):\n",
    "    try:\n",
    "    #example = dataset['train'][0]\n",
    "        start_idx, end_idx = example['annotations']['long_answer'][0]['start_token'], example['annotations']['long_answer'][0]['end_token']\n",
    "        answer  = \" \".join([itm for idx, itm in enumerate(example['document']['tokens']['token'][start_idx:end_idx]) if not example['document']['tokens']['is_html'][start_idx+idx]])\n",
    "        context = \" \".join([itm for idx, itm in enumerate(example['document']['tokens']['token'][:]) if not example['document']['tokens']['is_html'][idx]])\n",
    "        query = example['question']['text']\n",
    "        input_pairs =[query, context]\n",
    "        #encodings = tokenizer.encode_plus(input_pairs, pad_to_max_length=True, truncation=True, max_length=max_length)\n",
    "        encodings = tokenizer.encode_plus(input_pairs, padding='max_length', truncation=True, max_length=max_length)\n",
    "        context_encodings = tokenizer.encode_plus(context)\n",
    "\n",
    "        start_byte_idx = context.find(answer)\n",
    "        end_byte_idx = start_byte_idx + len(answer)-1\n",
    "\n",
    "        if start_idx==-1:\n",
    "            #print(start_idx)\n",
    "            encodings.update({'start_positions': 0,\n",
    "                              'end_positions': 0,\n",
    "                              'attention_mask': encodings['attention_mask']})\n",
    "            \n",
    "            for enc, val in encodings.items():\n",
    "                if isinstance(enc, torch.Tensor):\n",
    "                    encodings.update({\n",
    "                        enc: val.to_list()\n",
    "                    })\n",
    "            return encodings\n",
    "        start_positions_context = context_encodings.char_to_token(start_byte_idx)\n",
    "        end_positions_context = context_encodings.char_to_token(end_byte_idx)\n",
    "\n",
    "        sep_idx = encodings['input_ids'].index(tokenizer.sep_token_id)\n",
    "\n",
    "        start_positions = start_positions_context + sep_idx + 1\n",
    "        end_positions = end_positions_context + sep_idx + 1\n",
    "\n",
    "        if end_positions > 4096:\n",
    "              start_positions, end_positions = 0, 0\n",
    "\n",
    "        encodings.update({'start_positions': start_positions,\n",
    "                              'end_positions': end_positions,\n",
    "                              'attention_mask': encodings['attention_mask']})\n",
    "        for enc, val in encodings.items():\n",
    "                if isinstance(enc, torch.Tensor):\n",
    "                    encodings.update({\n",
    "                        enc: val.to_list()\n",
    "                    })\n",
    "    except Exception as e:\n",
    "        #print(start_idx, example)\n",
    "        print(e, example['id'])\n",
    "    return encodings"
   ]
  },
  {
   "cell_type": "code",
   "execution_count": 27,
   "id": "regulated-rough",
   "metadata": {},
   "outputs": [
    {
     "name": "stderr",
     "output_type": "stream",
     "text": [
      "Token indices sequence length is longer than the specified maximum sequence length for this model (6404 > 4096). Running this sequence through the model will result in indexing errors\n",
      "Loading cached processed dataset at /home/sri/.cache/huggingface/datasets/natural_questions/default/0.0.2/867dbbaf9137c1b83ecb19f5eb80559e1002ea26e702c6b919cfa81a17a8c531/cache-8f68a18e877fb425.arrow\n",
      "Loading cached processed dataset at /home/sri/.cache/huggingface/datasets/natural_questions/default/0.0.2/867dbbaf9137c1b83ecb19f5eb80559e1002ea26e702c6b919cfa81a17a8c531/cache-233a19e628ecf940.arrow\n"
     ]
    }
   ],
   "source": [
    "train_dataset = dataset['train'].select(indices=list(range(320)))\n",
    "#train_dataset = dataset['train']\n",
    "train_dataset = train_dataset.map(convert_to_features)\n",
    "train_dataset.flatten_indices().save_to_disk(\"datasets/train_data_4096\")"
   ]
  },
  {
   "cell_type": "code",
   "execution_count": 28,
   "id": "loaded-modeling",
   "metadata": {},
   "outputs": [
    {
     "data": {
      "application/vnd.jupyter.widget-view+json": {
       "model_id": "e4dc828235be4083995aabb4ffe6d1d8",
       "version_major": 2,
       "version_minor": 0
      },
      "text/plain": [
       "HBox(children=(FloatProgress(value=0.0, max=320.0), HTML(value='')))"
      ]
     },
     "metadata": {},
     "output_type": "display_data"
    },
    {
     "name": "stdout",
     "output_type": "stream",
     "text": [
      "\n"
     ]
    },
    {
     "name": "stderr",
     "output_type": "stream",
     "text": [
      "Loading cached processed dataset at /home/sri/.cache/huggingface/datasets/natural_questions/default/0.0.2/867dbbaf9137c1b83ecb19f5eb80559e1002ea26e702c6b919cfa81a17a8c531/cache-233a19e628ecf940.arrow\n"
     ]
    }
   ],
   "source": [
    "valid_dataset = dataset['validation'].select(indices=list(range(320)))\n",
    "#valid_dataset = dataset['validation']\n",
    "valid_dataset = valid_dataset.map(convert_to_features, load_from_cache_file=False)\n",
    "\n",
    "train_dataset.flatten_indices().save_to_disk(\"datasets/validation_data_4096\")"
   ]
  },
  {
   "cell_type": "code",
   "execution_count": 21,
   "id": "dedicated-demand",
   "metadata": {},
   "outputs": [],
   "source": [
    "# # loading data\n",
    "\n",
    "import datasets\n",
    "\n",
    "t_data = datasets.load_from_disk(\"datasets/train_data_4096/\")"
   ]
  },
  {
   "cell_type": "code",
   "execution_count": 15,
   "id": "third-indian",
   "metadata": {},
   "outputs": [],
   "source": [
    "import torch\n",
    "\n",
    "def convert_to_tensors(example):\n",
    "    for k in example.keys():\n",
    "        if k in [\"attention_mask\", \"end_positions\", \"start_positions\", \"input_ids\"]:\n",
    "            #print(k)\n",
    "            #example[k] = torch.tensor(example[k])\n",
    "            example.update({\n",
    "             k: torch.tensor(example[k])\n",
    "            })\n",
    "    #print(type(example['input_ids']))\n",
    "    #return example"
   ]
  },
  {
   "cell_type": "code",
   "execution_count": 16,
   "id": "backed-acoustic",
   "metadata": {},
   "outputs": [
    {
     "data": {
      "application/vnd.jupyter.widget-view+json": {
       "model_id": "87e0fd1e02bf4ed2810fbb132121624d",
       "version_major": 2,
       "version_minor": 0
      },
      "text/plain": [
       "HBox(children=(FloatProgress(value=0.0, max=320.0), HTML(value='')))"
      ]
     },
     "metadata": {},
     "output_type": "display_data"
    },
    {
     "name": "stdout",
     "output_type": "stream",
     "text": [
      "\n"
     ]
    },
    {
     "data": {
      "text/plain": [
       "Dataset({\n",
       "    features: ['annotations', 'attention_mask', 'document', 'end_positions', 'id', 'input_ids', 'question', 'start_positions'],\n",
       "    num_rows: 320\n",
       "})"
      ]
     },
     "execution_count": 16,
     "metadata": {},
     "output_type": "execute_result"
    }
   ],
   "source": [
    "#train_data = t_data.map(convert_to_tensors, load_from_cache_file=False)\n",
    "t_data.map(convert_to_tensors, load_from_cache_file=False)"
   ]
  },
  {
   "cell_type": "code",
   "execution_count": 23,
   "id": "thirty-format",
   "metadata": {},
   "outputs": [
    {
     "name": "stdout",
     "output_type": "stream",
     "text": [
      "<class 'torch.Tensor'>\n"
     ]
    }
   ],
   "source": [
    "for example in t_data:\n",
    "    print(type(example['input_ids']))\n",
    "    break"
   ]
  },
  {
   "cell_type": "code",
   "execution_count": 19,
   "id": "accomplished-plasma",
   "metadata": {},
   "outputs": [
    {
     "data": {
      "text/plain": [
       "{'annotations': Sequence(feature={'id': Value(dtype='string', id=None), 'long_answer': {'end_byte': Value(dtype='int64', id=None), 'end_token': Value(dtype='int64', id=None), 'start_byte': Value(dtype='int64', id=None), 'start_token': Value(dtype='int64', id=None)}, 'short_answers': Sequence(feature={'end_byte': Value(dtype='int64', id=None), 'end_token': Value(dtype='int64', id=None), 'start_byte': Value(dtype='int64', id=None), 'start_token': Value(dtype='int64', id=None), 'text': Value(dtype='string', id=None)}, length=-1, id=None), 'yes_no_answer': ClassLabel(num_classes=2, names=['NO', 'YES'], names_file=None, id=None)}, length=-1, id=None),\n",
       " 'attention_mask': Sequence(feature=Value(dtype='int8', id=None), length=-1, id=None),\n",
       " 'document': {'html': Value(dtype='string', id=None),\n",
       "  'title': Value(dtype='string', id=None),\n",
       "  'tokens': Sequence(feature={'is_html': Value(dtype='bool', id=None), 'token': Value(dtype='string', id=None)}, length=-1, id=None),\n",
       "  'url': Value(dtype='string', id=None)},\n",
       " 'end_positions': Value(dtype='int64', id=None),\n",
       " 'id': Value(dtype='string', id=None),\n",
       " 'input_ids': Sequence(feature=Value(dtype='int32', id=None), length=-1, id=None),\n",
       " 'question': {'text': Value(dtype='string', id=None),\n",
       "  'tokens': Sequence(feature=Value(dtype='string', id=None), length=-1, id=None)},\n",
       " 'start_positions': Value(dtype='int64', id=None)}"
      ]
     },
     "execution_count": 19,
     "metadata": {},
     "output_type": "execute_result"
    }
   ],
   "source": [
    "t_data.features"
   ]
  },
  {
   "cell_type": "code",
   "execution_count": 18,
   "id": "coastal-court",
   "metadata": {},
   "outputs": [],
   "source": [
    "t_data.set_format(type='torch', columns=['input_ids'])"
   ]
  },
  {
   "cell_type": "code",
   "execution_count": 22,
   "id": "medium-owner",
   "metadata": {},
   "outputs": [],
   "source": [
    "t_data.set_format(type='torch', columns=['input_ids', 'attention_mask', 'end_positions', 'start_positions'])"
   ]
  },
  {
   "cell_type": "code",
   "execution_count": null,
   "id": "comic-measure",
   "metadata": {},
   "outputs": [],
   "source": []
  }
 ],
 "metadata": {
  "kernelspec": {
   "display_name": "dl",
   "language": "python",
   "name": "dl"
  },
  "language_info": {
   "codemirror_mode": {
    "name": "ipython",
    "version": 3
   },
   "file_extension": ".py",
   "mimetype": "text/x-python",
   "name": "python",
   "nbconvert_exporter": "python",
   "pygments_lexer": "ipython3",
   "version": "3.8.8"
  }
 },
 "nbformat": 4,
 "nbformat_minor": 5
}
