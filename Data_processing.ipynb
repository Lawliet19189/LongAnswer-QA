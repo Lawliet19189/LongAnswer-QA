{
 "cells": [
  {
   "cell_type": "code",
   "execution_count": 1,
   "id": "solid-skating",
   "metadata": {},
   "outputs": [],
   "source": [
    "import torch\n",
    "from transformers import LongformerTokenizerFast\n",
    "\n",
    "tokenizer = LongformerTokenizerFast.from_pretrained('allenai/longformer-base-4096')"
   ]
  },
  {
   "cell_type": "markdown",
   "id": "deadly-conclusion",
   "metadata": {},
   "source": [
    "# preprocessing data"
   ]
  },
  {
   "cell_type": "code",
   "execution_count": 2,
   "id": "cleared-sydney",
   "metadata": {},
   "outputs": [
    {
     "name": "stderr",
     "output_type": "stream",
     "text": [
      "Using custom data configuration default\n",
      "Reusing dataset natural_questions (/home/sri/.cache/huggingface/datasets/natural_questions/default/0.0.2/867dbbaf9137c1b83ecb19f5eb80559e1002ea26e702c6b919cfa81a17a8c531)\n"
     ]
    }
   ],
   "source": [
    "from datasets import load_dataset\n",
    "\n",
    "\n",
    "dataset = load_dataset(\"natural_questions\")"
   ]
  },
  {
   "cell_type": "code",
   "execution_count": 5,
   "id": "empirical-johns",
   "metadata": {},
   "outputs": [],
   "source": [
    "def convert_to_features(example, max_length=4096):\n",
    "    try:\n",
    "    #example = dataset['train'][0]\n",
    "        start_idx, end_idx = example['annotations']['long_answer'][0]['start_token'], example['annotations']['long_answer'][0]['end_token']\n",
    "        answer  = \" \".join([itm for idx, itm in enumerate(example['document']['tokens']['token'][start_idx:end_idx]) if not example['document']['tokens']['is_html'][start_idx+idx]])\n",
    "        context = \" \".join([itm for idx, itm in enumerate(example['document']['tokens']['token'][:]) if not example['document']['tokens']['is_html'][idx]])\n",
    "        query = example['question']['text']\n",
    "        input_pairs =[query, context]\n",
    "        #encodings = tokenizer.encode_plus(input_pairs, pad_to_max_length=True, truncation=True, max_length=max_length)\n",
    "        encodings = tokenizer.encode_plus(input_pairs, padding='max_length', truncation=True, max_length=max_length)\n",
    "        context_encodings = tokenizer.encode_plus(context)\n",
    "\n",
    "        start_byte_idx = context.find(answer)\n",
    "        end_byte_idx = start_byte_idx + len(answer)-1\n",
    "\n",
    "        if start_idx==-1:\n",
    "            #print(start_idx)\n",
    "            encodings.update({'start_positions': 0,\n",
    "                              'end_positions': 0,\n",
    "                              'attention_mask': encodings['attention_mask']})\n",
    "            \n",
    "            #for enc, val in encodings.items():\n",
    "            #    if isinstance(enc, torch.Tensor):\n",
    "            #        encodings.update({\n",
    "            #            enc: val.to_list()\n",
    "            #        })\n",
    "            return encodings\n",
    "        start_positions_context = context_encodings.char_to_token(start_byte_idx)\n",
    "        end_positions_context = context_encodings.char_to_token(end_byte_idx)\n",
    "\n",
    "        sep_idx = encodings['input_ids'].index(tokenizer.sep_token_id)\n",
    "\n",
    "        start_positions = start_positions_context + sep_idx + 1\n",
    "        end_positions = end_positions_context + sep_idx + 1\n",
    "\n",
    "        if end_positions > 4096:\n",
    "              start_positions, end_positions = 0, 0\n",
    "\n",
    "        encodings.update({'start_positions': start_positions,\n",
    "                              'end_positions': end_positions,\n",
    "                              'attention_mask': encodings['attention_mask']})\n",
    "        #for enc, val in encodings.items():\n",
    "        #        if isinstance(enc, torch.Tensor):\n",
    "        #            encodings.update({\n",
    "        #                enc: val.to_list()\n",
    "        #            })\n",
    "    except Exception as e:\n",
    "        #print(start_idx, example)\n",
    "        print(e, example['id'])\n",
    "    return encodings"
   ]
  },
  {
   "cell_type": "code",
   "execution_count": null,
   "id": "underlying-collins",
   "metadata": {},
   "outputs": [],
   "source": [
    "#train_dataset = dataset['train'].select(indices=list(range(129)))\n",
    "train_dataset = dataset['train']\n",
    "train_dataset = train_dataset.map(convert_to_features, num_proc=8)\n",
    "train_dataset.set_format(type='numpy', columns=['input_ids', 'attention_mask', 'end_positions', 'start_positions'])\n",
    "train_dataset.flatten_indices().save_to_disk(\"datasets/train_data_4096\")"
   ]
  },
  {
   "cell_type": "code",
   "execution_count": 17,
   "id": "laden-nicholas",
   "metadata": {},
   "outputs": [
    {
     "name": "stderr",
     "output_type": "stream",
     "text": [
      "Loading cached processed dataset at /home/sri/.cache/huggingface/datasets/natural_questions/default/0.0.2/867dbbaf9137c1b83ecb19f5eb80559e1002ea26e702c6b919cfa81a17a8c531/cache-4825febb561bf5bf.arrow\n"
     ]
    }
   ],
   "source": [
    "train_dataset.flatten_indices().save_to_disk(\"datasets/train_data_4096\")"
   ]
  },
  {
   "cell_type": "code",
   "execution_count": 18,
   "id": "advanced-convergence",
   "metadata": {},
   "outputs": [
    {
     "name": "stdout",
     "output_type": "stream",
     "text": [
      "\n",
      "\n",
      "\n",
      "\n",
      "\n",
      "\n"
     ]
    },
    {
     "data": {
      "application/vnd.jupyter.widget-view+json": {
       "model_id": "61e44ea4d2bd44e6b299eeefe25e3c4c",
       "version_major": 2,
       "version_minor": 0
      },
      "text/plain": [
       "HBox(children=(FloatProgress(value=0.0, max=8.0), HTML(value='')))"
      ]
     },
     "metadata": {},
     "output_type": "display_data"
    },
    {
     "name": "stdout",
     "output_type": "stream",
     "text": [
      "\n"
     ]
    }
   ],
   "source": [
    "#valid_dataset = dataset['validation'].select(indices=list(range(128)))\n",
    "valid_dataset = dataset['validation']\n",
    "valid_dataset = valid_dataset.map(convert_to_features, num_proc=6, load_from_cache_file=False)\n",
    "valid_dataset.set_format(type='numpy', columns=['input_ids', 'attention_mask', 'end_positions', 'start_positions'])\n",
    "valid_dataset.flatten_indices().save_to_disk(\"datasets/validation_data_4096\")"
   ]
  },
  {
   "cell_type": "markdown",
   "id": "through-trial",
   "metadata": {},
   "source": [
    "# Downloading and store training and validationd data"
   ]
  },
  {
   "cell_type": "code",
   "execution_count": null,
   "id": "broad-ordering",
   "metadata": {},
   "outputs": [],
   "source": [
    "import boto3\n",
    "\n",
    "#s3 = boto3.client('s3', aws_access_key_id=... , aws_secret_access_key=...)\n",
    "s3 = boto3.client('s3')\n",
    "s3.download_file('BUCKET_NAME', 'OBJECT_NAME', 'FILE_NAME')"
   ]
  },
  {
   "cell_type": "code",
   "execution_count": 1,
   "id": "center-shopping",
   "metadata": {},
   "outputs": [
    {
     "name": "stdout",
     "output_type": "stream",
     "text": [
      "\u001b[33mWARNING: Package(s) not found: datasets\u001b[0m\n"
     ]
    }
   ],
   "source": [
    "!pip show datasets\n"
   ]
  },
  {
   "cell_type": "code",
   "execution_count": null,
   "id": "illegal-association",
   "metadata": {},
   "outputs": [],
   "source": []
  }
 ],
 "metadata": {
  "kernelspec": {
   "display_name": "dl",
   "language": "python",
   "name": "dl"
  },
  "language_info": {
   "codemirror_mode": {
    "name": "ipython",
    "version": 3
   },
   "file_extension": ".py",
   "mimetype": "text/x-python",
   "name": "python",
   "nbconvert_exporter": "python",
   "pygments_lexer": "ipython3",
   "version": "3.8.8"
  }
 },
 "nbformat": 4,
 "nbformat_minor": 5
}
